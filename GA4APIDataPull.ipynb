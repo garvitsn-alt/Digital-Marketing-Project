{
 "cells": [
  {
   "cell_type": "code",
   "execution_count": 71,
   "id": "ac18ba54-0471-4ac7-b795-d11a5e00eec1",
   "metadata": {},
   "outputs": [
    {
     "name": "stdout",
     "output_type": "stream",
     "text": [
      "C:\\Users\\garvi\\Documents\\Data Science Projects\\Digital Marketing Dashboard\\eastern-perigee-469018-v9-ac5502363b52.json\n",
      "501340180\n",
      "{'city': 'Hansi'} {'activeUsers': '5'}\n"
     ]
    }
   ],
   "source": [
    "import os\n",
    "from dotenv import load_dotenv\n",
    "from google.analytics.data_v1beta import BetaAnalyticsDataClient \n",
    "from google.analytics.data_v1beta.types import DateRange, Metric, Dimension, RunReportRequest\n",
    "from google.oauth2 import service_account\n",
    "\n",
    "\n",
    "# LOADING PROPERTY_ID AND GA4 CREDENTIALS JSON FILE\n",
    "#load_dotenv(r\"C:\\Users\\garvi\\Documents\\Data Science Projects\\Digital Marketing Dashboard\\.env\")\n",
    "PROPERTY_ID = os.getenv(\"Property_Id\")\n",
    "CREDENTIALS_GA4_JSON = os.getenv(\"GA4_Service_Account_Credentials\", r\"C:\\Users\\garvi\\Documents\\Data Science Projects\\Digital Marketing Dashboard\\eastern-perigee-469018-v9-ac5502363b52.json\" )\n",
    "\n",
    "print(os.getenv(\"GA4_Service_Account_Credentials\"))\n",
    "print(os.getenv(\"Property_Id\"))\n",
    "\n",
    "# intializing client , request and responmse to fetch data from google analytics 4 with property Id and service credentials json\n",
    "\n",
    "credentials = service_account.Credentials.from_service_account_file(CREDENTIALS_GA4_JSON)\n",
    "client = BetaAnalyticsDataClient(credentials = credentials)\n",
    "\n",
    "request = RunReportRequest(\n",
    "    property  = f\"properties/{PROPERTY_ID}\",\n",
    "    dimensions = [Dimension(name=\"city\")],\n",
    "    metrics = [Metric(name=\"activeUsers\")],\n",
    "    date_ranges = [DateRange(start_date = \"2025-08-15\", end_date = \"2025-08-15\")]\n",
    ")\n",
    "\n",
    "response = client.run_report(request)\n",
    "#print(response)\n",
    "\n",
    "for row in response.rows:\n",
    "    print({dim.name: value.value for dim, value in zip(request.dimensions, row.dimension_values)},\n",
    "          {met.name: value.value for met, value in zip(request.metrics, row.metric_values)})\n",
    "    \n",
    " \n",
    "\n"
   ]
  },
  {
   "cell_type": "code",
   "execution_count": null,
   "id": "aa6b8286-fbd8-4200-8488-e6ff52531627",
   "metadata": {},
   "outputs": [],
   "source": []
  },
  {
   "cell_type": "code",
   "execution_count": null,
   "id": "4f6903c2-ac3e-4c09-8031-47065866fe3c",
   "metadata": {},
   "outputs": [],
   "source": []
  }
 ],
 "metadata": {
  "kernelspec": {
   "display_name": "Python [conda env:base] *",
   "language": "python",
   "name": "conda-base-py"
  },
  "language_info": {
   "codemirror_mode": {
    "name": "ipython",
    "version": 3
   },
   "file_extension": ".py",
   "mimetype": "text/x-python",
   "name": "python",
   "nbconvert_exporter": "python",
   "pygments_lexer": "ipython3",
   "version": "3.13.5"
  }
 },
 "nbformat": 4,
 "nbformat_minor": 5
}
